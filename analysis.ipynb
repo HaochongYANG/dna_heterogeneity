{
 "cells": [
  {
   "cell_type": "code",
   "execution_count": 76,
   "metadata": {},
   "outputs": [],
   "source": [
    "import pandas as pd\n",
    "import numpy as np\n",
    "import matplotlib.pyplot as plt\n",
    "import os\n",
    "import statistics"
   ]
  },
  {
   "cell_type": "markdown",
   "metadata": {},
   "source": [
    "## Analysis for GM12878"
   ]
  },
  {
   "cell_type": "code",
   "execution_count": 77,
   "metadata": {},
   "outputs": [],
   "source": [
    "# Directory containing the data files\n",
    "directory = './GM12878'"
   ]
  },
  {
   "cell_type": "code",
   "execution_count": 78,
   "metadata": {},
   "outputs": [],
   "source": [
    "# helper to load a single file into a contact matrix\n",
    "def load_contact_matrix(filepath):\n",
    "    data = pd.read_csv(filepath, sep='\\t', header=None)\n",
    "    data.columns = ['chr1', 'pos1', 'chr2', 'pos2', 'interaction']\n",
    "    data = data[data['chr1'] == data['chr2']]\n",
    "    max_pos = max(data['pos1'].max(), data['pos2'].max())\n",
    "    min_pos = min(data['pos1'].min(), data['pos2'].min())\n",
    "    bins = np.linspace(min_pos, max_pos, num=201)\n",
    "    data['pos1_bin'] = pd.cut(data['pos1'], bins, labels=False, include_lowest=True)\n",
    "    data['pos2_bin'] = pd.cut(data['pos2'], bins, labels=False, include_lowest=True)\n",
    "    pivot_table = data.groupby(['pos1_bin', 'pos2_bin'])['interaction'].sum().unstack(fill_value=0)\n",
    "    return pivot_table.to_numpy()\n",
    "\n",
    "# Function to normalize a contact matrix\n",
    "def z_score_normalize(matrix):\n",
    "    mean_val = np.mean(matrix)\n",
    "    std_val = np.std(matrix)\n",
    "    normalized_matrix = (matrix - mean_val) / std_val\n",
    "    return normalized_matrix\n",
    "\n",
    "# Function to load all the matrices in a directory\n",
    "def load_matrices(directory, contact_matrices, filepaths):\n",
    "    for filename in os.listdir(directory):\n",
    "        if filename.endswith('.txt'):\n",
    "            filepath = os.path.join(directory, filename)\n",
    "            normalized_matrix = z_score_normalize(load_contact_matrix(filepath))\n",
    "            contact_matrices.append(normalized_matrix)\n",
    "            filepaths.append(filepath)\n",
    "            \n",
    "# Function to extend matrix to the target dimension\n",
    "def extend_matrix(matrix, target_dim):\n",
    "    extended_matrix = np.zeros(target_dim)\n",
    "    rows, cols = matrix.shape\n",
    "    extended_matrix[:rows, :cols] = matrix\n",
    "    return extended_matrix\n",
    "\n",
    "# Function to calculate the Frobenius norm between two matrices\n",
    "def frobenius_norm(matrix1, matrix2):\n",
    "    return np.linalg.norm(matrix1 - matrix2, 'fro')\n",
    "\n",
    "def plot_matrices(num_matrices, matrices_per_figure, contact_matrices):\n",
    "    for start in range(0, num_matrices, matrices_per_figure):\n",
    "        end = min(start + matrices_per_figure, num_matrices)\n",
    "    fig, axes = plt.subplots(nrows=2, ncols=3, figsize=(15, 10))\n",
    "    axes = axes.flatten()\n",
    "    \n",
    "    for i, ax in enumerate(axes):\n",
    "        if start + i < end:\n",
    "            matrix = contact_matrices[start + i]\n",
    "            im = ax.imshow(matrix, cmap='coolwarm', interpolation='none')\n",
    "            ax.set_title(f'Matrix {start + i + 1}')\n",
    "            ax.set_xlabel('Position along Chromosome')\n",
    "            ax.set_ylabel('Position along Chromosome')\n",
    "            fig.colorbar(im, ax=ax, label='Interaction Frequency')\n",
    "        else:\n",
    "            fig.delaxes(ax)\n",
    "    \n",
    "    plt.tight_layout()\n",
    "    plt.show()\n",
    "    \n",
    "\n",
    "def plot_distance_matrix(num_matrices, contact_matrices):\n",
    "    # Initialize the distance matrix\n",
    "    distance_matrix = np.zeros((num_matrices, num_matrices))\n",
    "\n",
    "    # Compute the distances and store in the distance matrix\n",
    "    for i in range(num_matrices):\n",
    "        for j in range(i, num_matrices):\n",
    "            distance = frobenius_norm(contact_matrices[i], contact_matrices[j])\n",
    "            distance_matrix[i, j] = distance\n",
    "            distance_matrix[j, i] = distance\n",
    "\n",
    "    # Print the distance matrix\n",
    "    print(\"Distance Matrix:\")\n",
    "    print(distance_matrix)\n",
    "\n",
    "def find_average(contact_matrices):\n",
    "    average_list = []\n",
    "    for matrix in contact_matrices:\n",
    "        sum = 0\n",
    "        for i in range(matrix.shape[0]):\n",
    "            for j in range(matrix.shape[1]):\n",
    "                sum += matrix[i][j]\n",
    "        avg = sum / (matrix.shape[0] * matrix.shape[1])\n",
    "        average_list.append(avg)\n",
    "    return average_list"
   ]
  },
  {
   "cell_type": "code",
   "execution_count": 79,
   "metadata": {},
   "outputs": [],
   "source": [
    "# Load all contact matrices into a list\n",
    "contact_matrices = []\n",
    "filepaths = []"
   ]
  },
  {
   "cell_type": "code",
   "execution_count": 80,
   "metadata": {},
   "outputs": [
    {
     "name": "stdout",
     "output_type": "stream",
     "text": [
      "24\n"
     ]
    }
   ],
   "source": [
    "load_matrices(directory, contact_matrices, filepaths)\n",
    "\n",
    "\n",
    "num_matrices = len(contact_matrices)\n",
    "\n",
    "# Target dimension\n",
    "target_dim = (200, 200)\n",
    "\n",
    "# Extend all matrices\n",
    "contact_matrices = [extend_matrix(matrix, target_dim) for matrix in contact_matrices]\n",
    "\n",
    "print(len(contact_matrices))"
   ]
  },
  {
   "cell_type": "code",
   "execution_count": 81,
   "metadata": {},
   "outputs": [
    {
     "name": "stdout",
     "output_type": "stream",
     "text": [
      "Frobenius Norm (Distance) between the matrices: 128.99796875135635\n"
     ]
    }
   ],
   "source": [
    "# Calculate the Frobenius norm (distance) between the matrices\n",
    "distance = frobenius_norm(contact_matrices[3], contact_matrices[0])\n",
    "\n",
    "# Print the distance\n",
    "print(\"Frobenius Norm (Distance) between the matrices:\", distance)\n"
   ]
  },
  {
   "cell_type": "code",
   "execution_count": null,
   "metadata": {},
   "outputs": [],
   "source": [
    "# Plot the matrices in batches of 6 per figure\n",
    "num_matrices = len(contact_matrices)\n",
    "matrices_per_figure = 6\n",
    "\n",
    "plot_matrices(num_matrices, matrices_per_figure, contact_matrices)"
   ]
  },
  {
   "cell_type": "code",
   "execution_count": 83,
   "metadata": {},
   "outputs": [
    {
     "name": "stdout",
     "output_type": "stream",
     "text": [
      "Distance Matrix:\n",
      "[[  0.          80.57671192 136.3526918  128.99796875  82.33918215\n",
      "  136.28604488  86.98202622 138.62782231 155.16512479 141.64125278\n",
      "  137.08130842 139.56606583 128.59476673 139.78131077 127.45660365\n",
      "  137.01414868 137.39492653 130.3074066  133.03552038 133.08184179\n",
      "  134.02665933 130.82957997 133.20190591 138.98711219]\n",
      " [ 80.57671192   0.         122.18639918 114.14824047  63.58232115\n",
      "  119.7971038   68.69611741 125.67667006 145.72232498 127.93396422\n",
      "  124.30111176 132.28893071 115.92612336 125.24802192 112.1458947\n",
      "  120.57360963 120.78225431 113.4208751  118.82355798 118.63913772\n",
      "  123.15616794 117.28761243 119.96244357 125.57163166]\n",
      " [136.3526918  122.18639918   0.         129.63985309 136.65587215\n",
      "  125.01440313 131.75433919 125.05660711 109.56589976 122.51858022\n",
      "  124.46247625 138.99328254  72.06382045 125.49197811  68.47442523\n",
      "  123.56524645 124.11369124  72.24429608 121.3557025   84.18745403\n",
      "  122.62025839 119.83569425 124.22819349  94.50111947]\n",
      " [128.99796875 114.14824047 129.63985309   0.         122.96689751\n",
      "  129.74840992 121.64975669 125.5415167  148.86292541 126.93553559\n",
      "  126.18316935 136.85660742 124.87728187 127.91304721 120.53040537\n",
      "  124.26566288 123.48753192 122.86235338 116.85887397 123.59206973\n",
      "  125.33694442 121.23508566 124.53462692 132.17679728]\n",
      " [ 82.33918215  63.58232115 136.65587215 122.96689751   0.\n",
      "  128.76114431  74.57176329 134.1728531  151.84566794 139.30122247\n",
      "  133.36554059 137.29988363 127.28758652 134.77381252 126.05840917\n",
      "  131.72943465 132.06860506 128.16066706 127.48569699 131.2142617\n",
      "  133.59143123 127.4215509  130.16769442 136.27410453]\n",
      " [136.28604488 119.7971038  125.01440313 129.74840992 128.76114431\n",
      "    0.         127.81188627  82.00576005 151.34100745  80.0351484\n",
      "   81.19262638  96.77800344 118.72386936  79.2102215  118.46142449\n",
      "   69.54890776  76.70525645 115.84108404  78.2492866  123.00334115\n",
      "   79.28252906  75.62650563  86.81308959 127.02367664]\n",
      " [ 86.98202622  68.69611741 131.75433919 121.64975669  74.57176329\n",
      "  127.81188627   0.         133.90334105 149.60420949 136.76915305\n",
      "  131.89864908 136.43479234 123.23205477 133.51982678 120.5220506\n",
      "  129.47225647 131.11920611 122.62868573 124.85469414 127.83952038\n",
      "  129.97985226 126.22255216 128.46711057 133.56904751]\n",
      " [138.62782231 125.67667006 125.05660711 125.5415167  134.1728531\n",
      "   82.00576005 133.90334105   0.         151.15476351  66.37947456\n",
      "   73.688667    91.62621392 116.90073647  69.23557948 116.85875567\n",
      "   61.55124129  68.42079085 113.74281451  73.78373549 121.71103456\n",
      "   74.29706562  60.78451291  74.96614726 123.95371031]\n",
      " [155.16512479 145.72232498 109.56589976 148.86292541 151.84566794\n",
      "  151.34100745 149.60420949 151.15476351   0.         148.14022266\n",
      "  150.90488605 160.34734632 104.27300603 146.36171409  99.59680825\n",
      "  147.59805775 152.28823164 105.77319025 146.32780162 110.01110389\n",
      "  148.33899053 149.47320221 147.07488485 119.6274694 ]\n",
      " [141.64125278 127.93396422 122.51858022 126.93553559 139.30122247\n",
      "   80.0351484  136.76915305  66.37947456 148.14022266   0.\n",
      "   77.20735984  96.64314182 113.58284255  70.80508007 114.41106\n",
      "   63.79571207  71.47180478 111.49854199  75.81599318 121.11312176\n",
      "   74.08496099  65.38805103  75.64616473 122.77213259]\n",
      " [137.08130842 124.30111176 124.46247625 126.18316935 133.36554059\n",
      "   81.19262638 131.89864908  73.688667   150.90488605  77.20735984\n",
      "    0.          95.93306623 116.94910833  74.91270245 118.19717904\n",
      "   69.60766853  74.13243786 115.33442511  78.45863407 120.84699026\n",
      "   75.70080761  69.18535371  80.97891929 126.76110573]\n",
      " [139.56606583 132.28893071 138.99328254 136.85660742 137.29988363\n",
      "   96.77800344 136.43479234  91.62621392 160.34734632  96.64314182\n",
      "   95.93306623   0.         131.20245182  94.30209499 131.51581049\n",
      "   90.92335597  91.71810785 128.75306818  94.84039876 134.47824209\n",
      "   94.43046019  87.76916284  98.73537561 140.12244938]\n",
      " [128.59476673 115.92612336  72.06382045 124.87728187 127.28758652\n",
      "  118.72386936 123.23205477 116.90073647 104.27300603 113.58284255\n",
      "  116.94910833 131.20245182   0.         113.3790367   57.11791453\n",
      "  113.95536634 115.1720271   63.44087909 113.76961648  73.35053563\n",
      "  114.21352005 108.48732696 117.35888831  88.41979347]\n",
      " [139.78131077 125.24802192 125.49197811 127.91304721 134.77381252\n",
      "   79.2102215  133.51982678  69.23557948 146.36171409  70.80508007\n",
      "   74.91270245  94.30209499 113.3790367    0.         116.31285545\n",
      "   64.21731578  69.55666808 111.49905548  74.82326292 119.89535734\n",
      "   71.62401288  62.62766173  77.85930095 124.53683928]\n",
      " [127.45660365 112.1458947   68.47442523 120.53040537 126.05840917\n",
      "  118.46142449 120.5220506  116.85875567  99.59680825 114.41106\n",
      "  118.19717904 131.51581049  57.11791453 116.31285545   0.\n",
      "  115.96430065 117.99305946  55.90732567 113.88074562  67.51545007\n",
      "  114.40155465 112.25617861 116.98280162  79.23588837]\n",
      " [137.01414868 120.57360963 123.56524645 124.26566288 131.72943465\n",
      "   69.54890776 129.47225647  61.55124129 147.59805775  63.79571207\n",
      "   69.60766853  90.92335597 113.95536634  64.21731578 115.96430065\n",
      "    0.          61.59755952 111.89100946  68.73394578 117.99177791\n",
      "   70.14129526  54.40882883  69.40895117 124.66646733]\n",
      " [137.39492653 120.78225431 124.11369124 123.48753192 132.06860506\n",
      "   76.70525645 131.11920611  68.42079085 152.28823164  71.47180478\n",
      "   74.13243786  91.71810785 115.1720271   69.55666808 117.99305946\n",
      "   61.59755952   0.         115.19559377  76.07126563 121.46609875\n",
      "   70.61548279  62.33449397  76.27098895 126.59446703]\n",
      " [130.3074066  113.4208751   72.24429608 122.86235338 128.16066706\n",
      "  115.84108404 122.62868573 113.74281451 105.77319025 111.49854199\n",
      "  115.33442511 128.75306818  63.44087909 111.49905548  55.90732567\n",
      "  111.89100946 115.19559377   0.         110.53693558  78.37377341\n",
      "  110.97629017 109.58048043 115.82528105  83.27237688]\n",
      " [133.03552038 118.82355798 121.3557025  116.85887397 127.48569699\n",
      "   78.2492866  124.85469414  73.78373549 146.32780162  75.81599318\n",
      "   78.45863407  94.84039876 113.76961648  74.82326292 113.88074562\n",
      "   68.73394578  76.07126563 110.53693558   0.         121.75110115\n",
      "   76.21368086  66.39782223  80.04182213 123.63875481]\n",
      " [133.08184179 118.63913772  84.18745403 123.59206973 131.2142617\n",
      "  123.00334115 127.83952038 121.71103456 110.01110389 121.11312176\n",
      "  120.84699026 134.47824209  73.35053563 119.89535734  67.51545007\n",
      "  117.99177791 121.46609875  78.37377341 121.75110115   0.\n",
      "  119.20154444 114.02620462 122.12703339  99.8899626 ]\n",
      " [134.02665933 123.15616794 122.62025839 125.33694442 133.59143123\n",
      "   79.28252906 129.97985226  74.29706562 148.33899053  74.08496099\n",
      "   75.70080761  94.43046019 114.21352005  71.62401288 114.40155465\n",
      "   70.14129526  70.61548279 110.97629017  76.21368086 119.20154444\n",
      "    0.          69.16511057  80.29454718 124.4369828 ]\n",
      " [130.82957997 117.28761243 119.83569425 121.23508566 127.4215509\n",
      "   75.62650563 126.22255216  60.78451291 149.47320221  65.38805103\n",
      "   69.18535371  87.76916284 108.48732696  62.62766173 112.25617861\n",
      "   54.40882883  62.33449397 109.58048043  66.39782223 114.02620462\n",
      "   69.16511057   0.          69.31896047 123.09985221]\n",
      " [133.20190591 119.96244357 124.22819349 124.53462692 130.16769442\n",
      "   86.81308959 128.46711057  74.96614726 147.07488485  75.64616473\n",
      "   80.97891929  98.73537561 117.35888831  77.85930095 116.98280162\n",
      "   69.40895117  76.27098895 115.82528105  80.04182213 122.12703339\n",
      "   80.29454718  69.31896047   0.         127.36779571]\n",
      " [138.98711219 125.57163166  94.50111947 132.17679728 136.27410453\n",
      "  127.02367664 133.56904751 123.95371031 119.6274694  122.77213259\n",
      "  126.76110573 140.12244938  88.41979347 124.53683928  79.23588837\n",
      "  124.66646733 126.59446703  83.27237688 123.63875481  99.8899626\n",
      "  124.4369828  123.09985221 127.36779571   0.        ]]\n"
     ]
    }
   ],
   "source": [
    "plot_distance_matrix(num_matrices, contact_matrices)"
   ]
  },
  {
   "cell_type": "code",
   "execution_count": 85,
   "metadata": {},
   "outputs": [
    {
     "name": "stdout",
     "output_type": "stream",
     "text": [
      "Average: -5.655275177549971e-15\n"
     ]
    }
   ],
   "source": [
    "average = find_average(contact_matrices)\n",
    "average_value = statistics.mean(average)\n",
    "print(\"Average:\", average_value)"
   ]
  },
  {
   "cell_type": "markdown",
   "metadata": {},
   "source": [
    "## Analysis for HAP1"
   ]
  },
  {
   "cell_type": "code",
   "execution_count": 87,
   "metadata": {},
   "outputs": [
    {
     "name": "stdout",
     "output_type": "stream",
     "text": [
      "Distance Matrix:\n",
      "[[  0.         107.09182995 120.05037596 ... 157.77096983 110.66971164\n",
      "  110.32289041]\n",
      " [107.09182995   0.          81.77029257 ... 136.23395828  59.5813876\n",
      "   65.72478858]\n",
      " [120.05037596  81.77029257   0.         ... 146.19224692  76.7347748\n",
      "   80.93586997]\n",
      " ...\n",
      " [157.77096983 136.23395828 146.19224692 ...   0.         134.99341351\n",
      "  134.5799318 ]\n",
      " [110.66971164  59.5813876   76.7347748  ... 134.99341351   0.\n",
      "   60.09309729]\n",
      " [110.32289041  65.72478858  80.93586997 ... 134.5799318   60.09309729\n",
      "    0.        ]]\n",
      "Average: 6.800302451850623e-17\n"
     ]
    }
   ],
   "source": [
    "directory1 = './HAP1'\n",
    "\n",
    "# Load all contact matrices into a list\n",
    "contact_matrices1 = []\n",
    "filepaths1 = []\n",
    "\n",
    "# Load in the contact matrices from txt files\n",
    "load_matrices(directory1, contact_matrices1, filepaths1)\n",
    "\n",
    "\n",
    "num_matrices = len(contact_matrices1)\n",
    "\n",
    "# Target dimension\n",
    "target_dim = (200, 200)\n",
    "\n",
    "# Extend all matrices\n",
    "contact_matrices1 = [extend_matrix(matrix, target_dim) for matrix in contact_matrices1]\n",
    "\n",
    "plot_distance_matrix(num_matrices, contact_matrices1)\n",
    "\n",
    "average1 = find_average(contact_matrices1)\n",
    "average_value1 = statistics.mean(average1)\n",
    "print(\"Average:\", average_value1)"
   ]
  }
 ],
 "metadata": {
  "kernelspec": {
   "display_name": "Python 3",
   "language": "python",
   "name": "python3"
  },
  "language_info": {
   "codemirror_mode": {
    "name": "ipython",
    "version": 3
   },
   "file_extension": ".py",
   "mimetype": "text/x-python",
   "name": "python",
   "nbconvert_exporter": "python",
   "pygments_lexer": "ipython3",
   "version": "3.10.13"
  }
 },
 "nbformat": 4,
 "nbformat_minor": 2
}
