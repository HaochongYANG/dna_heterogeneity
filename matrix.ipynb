{
 "cells": [
  {
   "cell_type": "code",
   "execution_count": 1,
   "metadata": {},
   "outputs": [],
   "source": [
    "import numpy as np\n",
    "import matplotlib.pyplot as plt\n",
    "import pandas as pd\n",
    "import os\n",
    "import uuid  # To generate a unique ID for each file\n",
    "from tqdm import tqdm"
   ]
  },
  {
   "cell_type": "code",
   "execution_count": 2,
   "metadata": {},
   "outputs": [
    {
     "name": "stderr",
     "output_type": "stream",
     "text": [
      "  0%|          | 0/24 [00:00<?, ?it/s]"
     ]
    },
    {
     "name": "stderr",
     "output_type": "stream",
     "text": [
      "100%|██████████| 24/24 [00:00<00:00, 26.17it/s]\n",
      "100%|██████████| 48/48 [00:01<00:00, 27.10it/s]\n",
      "100%|██████████| 1622/1622 [01:30<00:00, 17.83it/s]\n",
      "100%|██████████| 917/917 [00:43<00:00, 20.89it/s]\n"
     ]
    }
   ],
   "source": [
    "# List of chromosomes\n",
    "chromosomes = ['chr1', 'chr2', 'chr3', 'chr4', 'chr5', 'chr6', 'chr7', 'chr8', 'chr9', 'chr10', \n",
    "               'chr11', 'chr12', 'chr13', 'chr14', 'chr15', 'chr16', 'chr17', 'chr18', 'chr19', \n",
    "               'chr20', 'chr21', 'chr22', 'chrX']\n",
    "\n",
    "# Initialize an empty list to store each row of data\n",
    "rows = []\n",
    "\n",
    "for directory in [\"./GM12878\", \"./K562\", \"./Hela\", \"./HAP1\"]:\n",
    "    for file in tqdm(os.listdir(directory)):\n",
    "        file_path = os.path.join(directory, file)\n",
    "        \n",
    "        # Generate a unique ID for each file\n",
    "        unique_id = str(uuid.uuid4())\n",
    "        \n",
    "        # Initialize a dictionary to store data for this file (each key is a column in the DataFrame)\n",
    "        file_data = {\n",
    "            \"unique_id\": unique_id,\n",
    "            \"file_directory\": file,\n",
    "            \"home_directory\": directory.split('/')[-1],\n",
    "            \"chr_total\": 0  # This will store the sum of all chromosome bin sizes\n",
    "        }\n",
    "        \n",
    "        # Process each chromosome in the file\n",
    "        for chr in chromosomes:\n",
    "            # Load data and filter for the current chromosome\n",
    "            data = pd.read_csv(file_path, sep='\\t', header=None, names=['chr1', 'pos1', 'chr2', 'pos2', 'interaction'])\n",
    "            data = data[data['chr1'] == chr]\n",
    "            \n",
    "            # Calculate the bin size count for the chromosome if there is data\n",
    "            if not data.empty:\n",
    "                min_pos = data['pos1'].min()\n",
    "                max_pos = data['pos1'].max()\n",
    "                bin_size_count = (max_pos - min_pos) / 1_000_000  # Convert to Mb\n",
    "                \n",
    "                # Store the bin size count for this chromosome\n",
    "                file_data[chr] = bin_size_count\n",
    "                file_data[\"chr_total\"] += bin_size_count  # Add to the total count for this file\n",
    "            else:\n",
    "                # If no data for this chromosome, store 0\n",
    "                file_data[chr] = 0\n",
    "        \n",
    "        # Append this file's data as a row in the list\n",
    "        rows.append(file_data)\n",
    "\n",
    "# Convert the list of dictionaries to a pandas DataFrame\n",
    "results_df = pd.DataFrame(rows)"
   ]
  },
  {
   "cell_type": "code",
   "execution_count": null,
   "metadata": {},
   "outputs": [],
   "source": [
    "results_df "
   ]
  },
  {
   "cell_type": "code",
   "execution_count": 12,
   "metadata": {},
   "outputs": [
    {
     "name": "stderr",
     "output_type": "stream",
     "text": [
      " 29%|██▉       | 7/24 [00:00<00:00, 32.93it/s]"
     ]
    },
    {
     "name": "stdout",
     "output_type": "stream",
     "text": [
      "{'chr1': 1000000, 'chr2': 0, 'chr3': 2000000, 'chr4': 2000000, 'chr5': 1000000, 'chr6': 0, 'chr7': 0, 'chr8': 0, 'chr9': 1000000, 'chr10': 0, 'chr11': 0, 'chr12': 0, 'chr13': 19000000, 'chr14': 21000000, 'chr15': 25000000, 'chr16': 3000000, 'chr17': 0, 'chr18': 1000000, 'chr19': 0, 'chr20': 0, 'chr21': 17000000, 'chr22': 16000000, 'chrX': 3000000}\n",
      "{'chr1': 0, 'chr2': 0, 'chr3': 0, 'chr4': 0, 'chr5': 0, 'chr6': 0, 'chr7': 0, 'chr8': 0, 'chr9': 0, 'chr10': 0, 'chr11': 0, 'chr12': 0, 'chr13': 19000000, 'chr14': 20000000, 'chr15': 22000000, 'chr16': 0, 'chr17': 0, 'chr18': 0, 'chr19': 0, 'chr20': 0, 'chr21': 10000000, 'chr22': 17000000, 'chrX': 2000000}\n",
      "{'chr1': 3000000, 'chr2': 0, 'chr3': 0, 'chr4': 1000000, 'chr5': 0, 'chr6': 0, 'chr7': 0, 'chr8': 0, 'chr9': 0, 'chr10': 0, 'chr11': 0, 'chr12': 0, 'chr13': 22000000, 'chr14': 21000000, 'chr15': 24000000, 'chr16': 0, 'chr17': 0, 'chr18': 0, 'chr19': 0, 'chr20': 1000000, 'chr21': 14000000, 'chr22': 18000000, 'chrX': 3000000}\n",
      "{'chr1': 1000000, 'chr2': 0, 'chr3': 0, 'chr4': 0, 'chr5': 0, 'chr6': 0, 'chr7': 0, 'chr8': 1000000, 'chr9': 0, 'chr10': 0, 'chr11': 0, 'chr12': 0, 'chr13': 20000000, 'chr14': 20000000, 'chr15': 22000000, 'chr16': 0, 'chr17': 0, 'chr18': 0, 'chr19': 0, 'chr20': 2000000, 'chr21': 15000000, 'chr22': 18000000, 'chrX': 2000000}\n",
      "{'chr1': 2000000, 'chr2': 0, 'chr3': 0, 'chr4': 2000000, 'chr5': 1000000, 'chr6': 0, 'chr7': 1000000, 'chr8': 0, 'chr9': 0, 'chr10': 0, 'chr11': 1000000, 'chr12': 1000000, 'chr13': 19000000, 'chr14': 20000000, 'chr15': 23000000, 'chr16': 1000000, 'chr17': 0, 'chr18': 0, 'chr19': 0, 'chr20': 0, 'chr21': 16000000, 'chr22': 17000000, 'chrX': 2000000}\n",
      "{'chr1': 0, 'chr2': 0, 'chr3': 1000000, 'chr4': 0, 'chr5': 1000000, 'chr6': 1000000, 'chr7': 0, 'chr8': 0, 'chr9': 0, 'chr10': 0, 'chr11': 0, 'chr12': 0, 'chr13': 20000000, 'chr14': 20000000, 'chr15': 22000000, 'chr16': 0, 'chr17': 1000000, 'chr18': 0, 'chr19': 1000000, 'chr20': 0, 'chr21': 10000000, 'chr22': 17000000, 'chrX': 3000000}\n",
      "{'chr1': 1000000, 'chr2': 0, 'chr3': 1000000, 'chr4': 0, 'chr5': 1000000, 'chr6': 0, 'chr7': 2000000, 'chr8': 1000000, 'chr9': 0, 'chr10': 0, 'chr11': 0, 'chr12': 0, 'chr13': 19000000, 'chr14': 21000000, 'chr15': 23000000, 'chr16': 0, 'chr17': 0, 'chr18': 1000000, 'chr19': 0, 'chr20': 0, 'chr21': 16000000, 'chr22': 19000000, 'chrX': 3000000}\n"
     ]
    },
    {
     "name": "stderr",
     "output_type": "stream",
     "text": [
      " 46%|████▌     | 11/24 [00:00<00:00, 29.79it/s]"
     ]
    },
    {
     "name": "stdout",
     "output_type": "stream",
     "text": [
      "{'chr1': 0, 'chr2': 0, 'chr3': 0, 'chr4': 0, 'chr5': 0, 'chr6': 1000000, 'chr7': 0, 'chr8': 0, 'chr9': 0, 'chr10': 0, 'chr11': 0, 'chr12': 0, 'chr13': 19000000, 'chr14': 20000000, 'chr15': 22000000, 'chr16': 0, 'chr17': 0, 'chr18': 0, 'chr19': 0, 'chr20': 0, 'chr21': 16000000, 'chr22': 17000000, 'chrX': 4000000}\n",
      "{'chr1': 1000000, 'chr2': 0, 'chr3': 0, 'chr4': 0, 'chr5': 2000000, 'chr6': 0, 'chr7': 0, 'chr8': 1000000, 'chr9': 0, 'chr10': 1000000, 'chr11': 4000000, 'chr12': 0, 'chr13': 19000000, 'chr14': 20000000, 'chr15': 22000000, 'chr16': 1000000, 'chr17': 1000000, 'chr18': 0, 'chr19': 2000000, 'chr20': 1000000, 'chr21': 17000000, 'chr22': 17000000, 'chrX': 2000000}\n",
      "{'chr1': 1000000, 'chr2': 0, 'chr3': 0, 'chr4': 0, 'chr5': 0, 'chr6': 0, 'chr7': 1000000, 'chr8': 1000000, 'chr9': 0, 'chr10': 0, 'chr11': 1000000, 'chr12': 0, 'chr13': 19000000, 'chr14': 19000000, 'chr15': 23000000, 'chr16': 0, 'chr17': 0, 'chr18': 0, 'chr19': 0, 'chr20': 0, 'chr21': 15000000, 'chr22': 18000000, 'chrX': 2000000}\n",
      "{'chr1': 0, 'chr2': 0, 'chr3': 0, 'chr4': 0, 'chr5': 0, 'chr6': 1000000, 'chr7': 0, 'chr8': 2000000, 'chr9': 0, 'chr10': 0, 'chr11': 1000000, 'chr12': 0, 'chr13': 19000000, 'chr14': 21000000, 'chr15': 24000000, 'chr16': 0, 'chr17': 0, 'chr18': 0, 'chr19': 1000000, 'chr20': 1000000, 'chr21': 15000000, 'chr22': 18000000, 'chrX': 3000000}\n",
      "{'chr1': 1000000, 'chr2': 0, 'chr3': 0, 'chr4': 0, 'chr5': 1000000, 'chr6': 0, 'chr7': 3000000, 'chr8': 0, 'chr9': 0, 'chr10': 2000000, 'chr11': 0, 'chr12': 0, 'chr13': 21000000, 'chr14': 22000000, 'chr15': 20000000, 'chr16': 0, 'chr17': 2000000, 'chr18': 0, 'chr19': 0, 'chr20': 1000000, 'chr21': 17000000, 'chr22': 17000000, 'chrX': 2000000}\n",
      "{'chr1': 1000000, 'chr2': 0, 'chr3': 0, 'chr4': 0, 'chr5': 0, 'chr6': 0, 'chr7': 0, 'chr8': 0, 'chr9': 0, 'chr10': 0, 'chr11': 1000000, 'chr12': 0, 'chr13': 20000000, 'chr14': 21000000, 'chr15': 20000000, 'chr16': 0, 'chr17': 0, 'chr18': 0, 'chr19': 1000000, 'chr20': 0, 'chr21': 10000000, 'chr22': 16000000, 'chrX': 2000000}\n"
     ]
    },
    {
     "name": "stderr",
     "output_type": "stream",
     "text": [
      " 75%|███████▌  | 18/24 [00:00<00:00, 28.65it/s]"
     ]
    },
    {
     "name": "stdout",
     "output_type": "stream",
     "text": [
      "{'chr1': 0, 'chr2': 0, 'chr3': 1000000, 'chr4': 2000000, 'chr5': 0, 'chr6': 0, 'chr7': 0, 'chr8': 0, 'chr9': 0, 'chr10': 0, 'chr11': 1000000, 'chr12': 0, 'chr13': 20000000, 'chr14': 20000000, 'chr15': 20000000, 'chr16': 0, 'chr17': 0, 'chr18': 0, 'chr19': 0, 'chr20': 0, 'chr21': 15000000, 'chr22': 18000000, 'chrX': 3000000}\n",
      "{'chr1': 0, 'chr2': 0, 'chr3': 0, 'chr4': 0, 'chr5': 0, 'chr6': 0, 'chr7': 0, 'chr8': 0, 'chr9': 0, 'chr10': 0, 'chr11': 0, 'chr12': 0, 'chr13': 19000000, 'chr14': 20000000, 'chr15': 20000000, 'chr16': 0, 'chr17': 0, 'chr18': 0, 'chr19': 0, 'chr20': 0, 'chr21': 10000000, 'chr22': 17000000, 'chrX': 2000000}\n",
      "{'chr1': 0, 'chr2': 0, 'chr3': 0, 'chr4': 0, 'chr5': 0, 'chr6': 0, 'chr7': 0, 'chr8': 0, 'chr9': 0, 'chr10': 0, 'chr11': 0, 'chr12': 0, 'chr13': 19000000, 'chr14': 20000000, 'chr15': 20000000, 'chr16': 0, 'chr17': 0, 'chr18': 0, 'chr19': 0, 'chr20': 0, 'chr21': 9000000, 'chr22': 18000000, 'chrX': 2000000}\n",
      "{'chr1': 1000000, 'chr2': 0, 'chr3': 0, 'chr4': 2000000, 'chr5': 0, 'chr6': 1000000, 'chr7': 0, 'chr8': 0, 'chr9': 0, 'chr10': 0, 'chr11': 0, 'chr12': 0, 'chr13': 19000000, 'chr14': 21000000, 'chr15': 22000000, 'chr16': 0, 'chr17': 1000000, 'chr18': 0, 'chr19': 1000000, 'chr20': 0, 'chr21': 16000000, 'chr22': 17000000, 'chrX': 2000000}\n",
      "{'chr1': 2000000, 'chr2': 0, 'chr3': 0, 'chr4': 0, 'chr5': 0, 'chr6': 0, 'chr7': 0, 'chr8': 0, 'chr9': 1000000, 'chr10': 0, 'chr11': 0, 'chr12': 0, 'chr13': 19000000, 'chr14': 20000000, 'chr15': 22000000, 'chr16': 0, 'chr17': 0, 'chr18': 0, 'chr19': 1000000, 'chr20': 0, 'chr21': 10000000, 'chr22': 17000000, 'chrX': 2000000}\n",
      "{'chr1': 0, 'chr2': 1000000, 'chr3': 0, 'chr4': 0, 'chr5': 0, 'chr6': 2000000, 'chr7': 0, 'chr8': 0, 'chr9': 0, 'chr10': 0, 'chr11': 0, 'chr12': 0, 'chr13': 19000000, 'chr14': 20000000, 'chr15': 20000000, 'chr16': 0, 'chr17': 1000000, 'chr18': 1000000, 'chr19': 0, 'chr20': 0, 'chr21': 10000000, 'chr22': 17000000, 'chrX': 2000000}\n"
     ]
    },
    {
     "name": "stderr",
     "output_type": "stream",
     "text": [
      "100%|██████████| 24/24 [00:00<00:00, 30.08it/s]"
     ]
    },
    {
     "name": "stdout",
     "output_type": "stream",
     "text": [
      "{'chr1': 1000000, 'chr2': 0, 'chr3': 0, 'chr4': 0, 'chr5': 1000000, 'chr6': 1000000, 'chr7': 0, 'chr8': 0, 'chr9': 1000000, 'chr10': 0, 'chr11': 0, 'chr12': 0, 'chr13': 20000000, 'chr14': 20000000, 'chr15': 20000000, 'chr16': 1000000, 'chr17': 0, 'chr18': 0, 'chr19': 1000000, 'chr20': 1000000, 'chr21': 16000000, 'chr22': 19000000, 'chrX': 3000000}\n",
      "{'chr1': 1000000, 'chr2': 0, 'chr3': 0, 'chr4': 0, 'chr5': 1000000, 'chr6': 0, 'chr7': 0, 'chr8': 0, 'chr9': 0, 'chr10': 0, 'chr11': 0, 'chr12': 0, 'chr13': 19000000, 'chr14': 21000000, 'chr15': 23000000, 'chr16': 0, 'chr17': 0, 'chr18': 2000000, 'chr19': 2000000, 'chr20': 0, 'chr21': 14000000, 'chr22': 19000000, 'chrX': 4000000}\n",
      "{'chr1': 0, 'chr2': 0, 'chr3': 0, 'chr4': 0, 'chr5': 0, 'chr6': 0, 'chr7': 0, 'chr8': 0, 'chr9': 0, 'chr10': 0, 'chr11': 0, 'chr12': 0, 'chr13': 19000000, 'chr14': 20000000, 'chr15': 20000000, 'chr16': 0, 'chr17': 0, 'chr18': 0, 'chr19': 0, 'chr20': 0, 'chr21': 10000000, 'chr22': 17000000, 'chrX': 2000000}\n",
      "{'chr1': 0, 'chr2': 0, 'chr3': 0, 'chr4': 0, 'chr5': 0, 'chr6': 2000000, 'chr7': 0, 'chr8': 0, 'chr9': 2000000, 'chr10': 0, 'chr11': 0, 'chr12': 0, 'chr13': 19000000, 'chr14': 20000000, 'chr15': 20000000, 'chr16': 1000000, 'chr17': 0, 'chr18': 0, 'chr19': 1000000, 'chr20': 0, 'chr21': 14000000, 'chr22': 19000000, 'chrX': 2000000}\n",
      "{'chr1': 1000000, 'chr2': 1000000, 'chr3': 1000000, 'chr4': 0, 'chr5': 2000000, 'chr6': 1000000, 'chr7': 0, 'chr8': 1000000, 'chr9': 2000000, 'chr10': 0, 'chr11': 2000000, 'chr12': 0, 'chr13': 19000000, 'chr14': 22000000, 'chr15': 25000000, 'chr16': 0, 'chr17': 2000000, 'chr18': 1000000, 'chr19': 0, 'chr20': 0, 'chr21': 15000000, 'chr22': 18000000, 'chrX': 3000000}\n"
     ]
    },
    {
     "name": "stderr",
     "output_type": "stream",
     "text": [
      "\n"
     ]
    }
   ],
   "source": [
    "for file in tqdm(os.listdir(\"./GM12878\")):\n",
    "    file_path = os.path.join(\"./GM12878\", file)\n",
    "    output = {}\n",
    "    for chr in chromosomes:\n",
    "        data = pd.read_csv(file_path, sep='\\t', header=None, names=['chr1', 'pos1', 'chr2', 'pos2', 'interaction'])\n",
    "        data = data[data['chr1'] == chr]\n",
    "        min_pos = data['pos1'].min()\n",
    "        output[chr] = min_pos\n",
    "    print(output)\n",
    "        "
   ]
  },
  {
   "cell_type": "code",
   "execution_count": null,
   "metadata": {},
   "outputs": [
    {
     "name": "stderr",
     "output_type": "stream",
     "text": [
      "100%|██████████| 24/24 [00:00<00:00, 311.38it/s]"
     ]
    },
    {
     "name": "stdout",
     "output_type": "stream",
     "text": [
      "246000000 243000000\n",
      "247000000 246000000\n",
      "246000000 246000000\n",
      "245000000 245000000\n",
      "245000000 245000000\n",
      "248000000 246000000\n",
      "246000000 246000000\n",
      "248000000 247000000\n",
      "247000000 248000000\n",
      "247000000 245000000\n",
      "248000000 248000000\n",
      "247000000 247000000\n",
      "245000000 248000000\n",
      "248000000 248000000\n",
      "249000000 249000000\n",
      "248000000 247000000\n",
      "246000000 247000000\n",
      "247000000 246000000\n",
      "247000000 248000000\n",
      "248000000 248000000\n",
      "247000000 246000000\n",
      "248000000 247000000\n",
      "248000000 247000000\n",
      "247000000 242000000\n"
     ]
    },
    {
     "name": "stderr",
     "output_type": "stream",
     "text": [
      "\n"
     ]
    }
   ],
   "source": [
    "# List of chromosomes\n",
    "chromosomes = ['chr1']\n",
    "for directory in [\"./GM12878\"]:\n",
    "    for file in tqdm(os.listdir(directory)):\n",
    "        file_path = os.path.join(directory, file)\n",
    "        # Process each chromosome in the file\n",
    "        for chr in chromosomes:\n",
    "            # Load data and filter for the current chromosome\n",
    "            data = pd.read_csv(file_path, sep='\\t', header=None, names=['chr1', 'pos1', 'chr2', 'pos2', 'interaction'])\n",
    "            data = data[data['chr1'] == chr]\n",
    "            \n",
    "            # Calculate the bin size count for the chromosome if there is data\n",
    "            if not data.empty:\n",
    "                min_pos1 = data['pos1'].min()\n",
    "                max_pos1 = data['pos1'].max()\n",
    "                min_pos2 = data['pos2'].min()\n",
    "                max_pos2 = data['pos2'].max()\n",
    "                print(max_pos1-min_pos1, max_pos2-min_pos2)\n",
    "            "
   ]
  }
 ],
 "metadata": {
  "kernelspec": {
   "display_name": ".conda",
   "language": "python",
   "name": "python3"
  },
  "language_info": {
   "codemirror_mode": {
    "name": "ipython",
    "version": 3
   },
   "file_extension": ".py",
   "mimetype": "text/x-python",
   "name": "python",
   "nbconvert_exporter": "python",
   "pygments_lexer": "ipython3",
   "version": "3.10.15"
  }
 },
 "nbformat": 4,
 "nbformat_minor": 2
}
