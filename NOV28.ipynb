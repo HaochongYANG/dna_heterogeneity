{
 "cells": [
  {
   "cell_type": "code",
   "execution_count": 11,
   "metadata": {},
   "outputs": [],
   "source": [
    "import numpy as np\n",
    "import matplotlib.pyplot as plt\n",
    "import pandas as pd\n",
    "import os\n",
    "import uuid  # To generate a unique ID for each file\n",
    "from tqdm import tqdm\n",
    "from scipy.sparse import block_diag\n",
    "from sklearn.decomposition import PCA\n",
    "from sklearn.preprocessing import StandardScaler\n",
    "from numpy.linalg import norm\n",
    "import random\n",
    "from scipy.linalg import svd, eigh\n",
    "from joblib import Parallel, delayed\n",
    "from typing import List, Tuple\n",
    "import seaborn as sns\n",
    "import math\n",
    "from matplotlib.colors import LinearSegmentedColormap\n",
    "import random\n",
    "import joblib\n",
    "import multiprocessing"
   ]
  },
  {
   "cell_type": "code",
   "execution_count": 12,
   "metadata": {},
   "outputs": [],
   "source": [
    "chromosomes = ['chr1', 'chr2', 'chr3', 'chr4', 'chr5', 'chr6', 'chr7', 'chr8', 'chr9', 'chr10', \n",
    "               'chr11', 'chr12', 'chr13', 'chr14', 'chr15', 'chr16', 'chr17', 'chr18', 'chr19', \n",
    "               'chr20', 'chr21', 'chr22', 'chrX']\n",
    "bins = {\n",
    "    'chr1': 250,\n",
    "    'chr2': 244,\n",
    "    'chr3': 198,\n",
    "    'chr4': 192,\n",
    "    'chr5': 181,\n",
    "    'chr6': 172,\n",
    "    'chr7': 160,\n",
    "    'chr8': 147,\n",
    "    'chr9': 142,\n",
    "    'chr10': 136,\n",
    "    'chr11': 135,\n",
    "    'chr12': 134,\n",
    "    'chr13': 97,\n",
    "    'chr14': 89,\n",
    "    'chr15': 83,\n",
    "    'chr16': 91,\n",
    "    'chr17': 82,\n",
    "    'chr18': 79,\n",
    "    'chr19': 60,\n",
    "    'chr20': 63,\n",
    "    'chr21': 40,\n",
    "    'chr22': 36,\n",
    "    'chrX': 154\n",
    "}\n",
    "\n"
   ]
  },
  {
   "cell_type": "code",
   "execution_count": 13,
   "metadata": {},
   "outputs": [],
   "source": [
    "# FUNCTIONS FOR LOADING IN THE MATRICES FROM RAW TXT FILES.\n",
    "def parse_file(file_path):\n",
    "    data = pd.read_csv(file_path, sep='\\t', header=None, names=['chr1', 'pos1', 'chr2', 'pos2', 'interaction'])\n",
    "    total_sum = data['interaction'].sum()\n",
    "    cis_contacts = data[data['chr1'] == data['chr2']]['interaction'].sum()\n",
    "    trans_contacts = data[data['chr1'] != data['chr2']]['interaction'].sum()\n",
    "    if trans_contacts == 0:\n",
    "        cis_trans_ratio = float('inf')\n",
    "    else:\n",
    "        cis_trans_ratio = cis_contacts / trans_contacts\n",
    "\n",
    "    if total_sum >= 1000 and cis_trans_ratio >= 1:\n",
    "        return data\n",
    "    print(f\"SKIPPED {file_path}\")\n",
    "    return None\n",
    "\n",
    "def find_range(data, chr):\n",
    "    range_pos1 = data[data['chr1'] == chr][\"pos1\"]\n",
    "    range_pos2 = data[data['chr2'] == chr][\"pos2\"]\n",
    "    \n",
    "    max_pos1 = range_pos1.max()\n",
    "    min_pos1 = range_pos1.min() \n",
    "    max_pos2 = range_pos2.max() \n",
    "    min_pos2 = range_pos2.min() \n",
    "\n",
    "    max_range = max(max_pos1, max_pos2) - min(min_pos1, min_pos2)\n",
    "    return int(max_range / 1000000) + 1, min(min_pos1, min_pos2)\n",
    "\n",
    "\n",
    "def load_txt_to_matrix(data):\n",
    "    list_of_chromosomes = []\n",
    "    for chr in chromosomes:\n",
    "        chr_range, min_position = find_range(data, chr)\n",
    "        X_chr = np.zeros((chr_range, chr_range), dtype=int)\n",
    "\n",
    "        for _, row in data[(data['chr1'] == chr) & (data['chr2'] == chr)].iterrows():\n",
    "            if row['interaction'] > 0:\n",
    "                pos1_index = int((row['pos1'] - min_position) / 1000000)\n",
    "                pos2_index = int((row['pos2'] - min_position) / 1000000)\n",
    "                if abs(pos1_index - pos2_index) >= 3:\n",
    "                    X_chr[pos1_index, pos2_index] = 1\n",
    "                # else:\n",
    "                #     X_chr[pos1_index, pos2_index] = -1\n",
    "\n",
    "        list_of_chromosomes.append(X_chr)\n",
    "    return list_of_chromosomes\n",
    "\n",
    "def load_txt_to_matrix_fix_size(data):\n",
    "    list_of_chromosomes = []\n",
    "    for chr in chromosomes:\n",
    "        chr_range, min_position = find_range(data, chr)\n",
    "        chr_range = bins[chr]\n",
    "        X_chr = np.zeros((chr_range, chr_range), dtype=int)\n",
    "\n",
    "        for _, row in data[(data['chr1'] == chr) & (data['chr2'] == chr)].iterrows():\n",
    "            if row['interaction'] > 0:\n",
    "                pos1_index = int((row['pos1']-min_position) / 1000000)\n",
    "                pos2_index = int((row['pos2']-min_position) / 1000000)\n",
    "                # if abs(pos1_index - pos2_index) >= 3:\n",
    "                X_chr[pos1_index, pos2_index] = 1\n",
    "                # else:\n",
    "                #     X_chr[pos1_index, pos2_index] = -1\n",
    "\n",
    "        list_of_chromosomes.append(X_chr)\n",
    "    return list_of_chromosomes"
   ]
  },
  {
   "cell_type": "code",
   "execution_count": null,
   "metadata": {},
   "outputs": [],
   "source": [
    "def load_sampled_files(directory, sample_num):\n",
    "    all_files = [f for f in os.listdir(directory) if f.endswith('.txt')]\n",
    "    valid_files = []\n",
    "\n",
    "    for f in all_files:\n",
    "        file_path = os.path.join(directory, f)\n",
    "        data = parse_file(file_path)\n",
    "        if data is not None:\n",
    "            valid_files.append(f)\n",
    "    \n",
    "    if len(valid_files) < sample_num:\n",
    "        print(f\"Directory {directory} Sample Size Smaller than {sample_num}. Actual Sample Size: {len(valid_files)}\")\n",
    "        sampled_files = valid_files\n",
    "    else:\n",
    "        sampled_files = random.sample(valid_files, sample_num)\n",
    "    \n",
    "    sample = []\n",
    "    for file in tqdm(sampled_files, desc=f\"Loading samples from {directory}\"):\n",
    "        file_path = os.path.join(directory, file)\n",
    "        data = parse_file(file_path)\n",
    "        if data is not None:\n",
    "            matrix_in_list = load_txt_to_matrix_fix_size(data)\n",
    "            sample.append(matrix_in_list)\n",
    "    \n",
    "    return sample"
   ]
  },
  {
   "cell_type": "code",
   "execution_count": null,
   "metadata": {},
   "outputs": [
    {
     "name": "stdout",
     "output_type": "stream",
     "text": [
      "警告：目录 GM12878 中有效样本数量少于 40。实际可用样本数量：24\n"
     ]
    },
    {
     "name": "stderr",
     "output_type": "stream",
     "text": [
      "Loading samples from GM12878: 100%|██████████| 24/24 [00:02<00:00, 11.91it/s]\n",
      "Loading samples from HAP1: 100%|██████████| 40/40 [00:04<00:00,  8.41it/s]\n",
      "Loading samples from Hela: 100%|██████████| 40/40 [00:05<00:00,  6.74it/s]\n",
      "Loading samples from K562: 100%|██████████| 40/40 [00:03<00:00, 11.39it/s]"
     ]
    },
    {
     "name": "stdout",
     "output_type": "stream",
     "text": [
      "总共加载了 3312 个染色体矩阵。\n"
     ]
    },
    {
     "name": "stderr",
     "output_type": "stream",
     "text": [
      "\n"
     ]
    }
   ],
   "source": [
    "sample_num = 40\n",
    "\n",
    "GM12878_sample = load_sampled_files(\"GM12878\", sample_num)\n",
    "HAP1_sample = load_sampled_files(\"HAP1\", sample_num)\n",
    "Hela_sample = load_sampled_files(\"Hela\", sample_num)\n",
    "K562_sample = load_sampled_files(\"K562\", sample_num)\n",
    "\n",
    "all_chromosomes = []\n",
    "for cell_type_sample in [GM12878_sample, HAP1_sample, Hela_sample, K562_sample]:\n",
    "    for cell in cell_type_sample:\n",
    "        all_chromosomes.extend(cell)\n",
    "\n",
    "print(f\"Total Loaded {len(all_chromosomes)} Chromosomal Matrices\")"
   ]
  },
  {
   "cell_type": "code",
   "execution_count": 16,
   "metadata": {},
   "outputs": [],
   "source": [
    "# UPDATED FUNCTION FOR TAKING THE APPROXIMATION OF MATRIX C\n",
    "def approximate_matrix(C, r):\n",
    "    \"\"\"\n",
    "    Approximates the matrix C using rank r approximation via eigendecomposition.\n",
    "\n",
    "    Parameters:\n",
    "    C (numpy.ndarray): The input symmetric matrix.\n",
    "    r (int): The desired rank for the approximation.\n",
    "\n",
    "    Returns:\n",
    "    numpy.ndarray: The approximated matrix M of size same as C.\n",
    "    \"\"\"\n",
    "    n = C.shape[0]\n",
    "    C_full = np.zeros((n, n))\n",
    "    # Fill upper triangle\n",
    "    rows, cols = np.triu_indices(n)\n",
    "    C_full[rows, cols] = C[rows, cols]\n",
    "    # Fill lower triangle\n",
    "    C_full = C_full + C_full.T - np.diag(np.diag(C_full))\n",
    "    \n",
    "    # Compute eigenvalues and eigenvectors\n",
    "    eigenvalues, eigenvectors = np.linalg.eigh(C_full)\n",
    "    \n",
    "    # Sort eigenvalues and eigenvectors in descending order\n",
    "    idx = np.argsort(eigenvalues)[::-1]\n",
    "    eigenvalues = eigenvalues[idx]\n",
    "    eigenvectors = eigenvectors[:, idx]\n",
    "    \n",
    "    # Select the top r eigenvalues and eigenvectors\n",
    "    eigenvalues_r = eigenvalues[:r]\n",
    "    eigenvectors_r = eigenvectors[:, :r]\n",
    "    \n",
    "    # Handle negative eigenvalues (if any) by setting them to 0\n",
    "    eigenvalues_r = np.maximum(eigenvalues_r, 0)\n",
    "    \n",
    "    # Construct X such that M = X*X^T\n",
    "    X = eigenvectors_r @ np.diag(np.sqrt(eigenvalues_r))\n",
    "    \n",
    "    # Reconstruct the matrix M = X*X^T\n",
    "    M = X @ X.T\n",
    "    \n",
    "    # Return only the upper triangular portion\n",
    "    return np.triu(M)"
   ]
  },
  {
   "cell_type": "code",
   "execution_count": null,
   "metadata": {},
   "outputs": [],
   "source": [
    "def compute_error_chromosome(C, r):\n",
    "    M = approximate_matrix(C, r)\n",
    "    diff = C - M\n",
    "    return np.linalg.norm(diff, 'fro')**2\n"
   ]
  },
  {
   "cell_type": "code",
   "execution_count": null,
   "metadata": {},
   "outputs": [],
   "source": [
    "def compute_total_error_all_chromosomes(matrix_list, r, n_jobs):\n",
    "    errors = Parallel(n_jobs=n_jobs, backend=\"loky\")(\n",
    "        delayed(compute_error_chromosome)(C, r) for C in matrix_list\n",
    "    )\n",
    "    total_error = np.sum(errors)\n",
    "    return total_error\n"
   ]
  },
  {
   "cell_type": "code",
   "execution_count": null,
   "metadata": {},
   "outputs": [],
   "source": [
    "def plot_total_errors_sum(total_errors, r_values):\n",
    "    plt.figure(figsize=(12, 8))\n",
    "    plt.plot(r_values, total_errors, label='Total Error', color='white', line_width=2)\n",
    "    plt.xlabel('Rank of Approximation (r)', fontsize=14)\n",
    "    plt.ylabel('Total Frobenius Norm Squared of (C - M)', fontsize=14)\n",
    "    plt.title('Total Error vs Rank of Approximation', fontsize=16)\n",
    "    plt.legend(fontsize=12)\n",
    "    plt.grid(False)\n",
    "    plt.tight_layout()\n",
    "    plt.show()\n"
   ]
  },
  {
   "cell_type": "code",
   "execution_count": 20,
   "metadata": {},
   "outputs": [
    {
     "name": "stdout",
     "output_type": "stream",
     "text": [
      "Using 10 CPU cores for parallel processing.\n"
     ]
    },
    {
     "name": "stderr",
     "output_type": "stream",
     "text": [
      "Processing ranks: 100%|██████████| 250/250 [05:56<00:00,  1.42s/it]\n"
     ]
    },
    {
     "data": {
      "image/png": "[encoded data removed]",
      "text/plain": [
       "<Figure size 1200x800 with 1 Axes>"
      ]
     },
     "metadata": {},
     "output_type": "display_data"
    }
   ],
   "source": [
    "max_rank = 250\n",
    "r_values = range(1, max_rank + 1, 1)\n",
    "\n",
    "total_errors_sum = {}\n",
    "total_errors_sum['Total'] = []\n",
    "\n",
    "n_jobs = -1\n",
    "\n",
    "for r in tqdm(r_values, desc=\"Processing ranks\"):\n",
    "    error = compute_total_error_all_chromosomes(all_chromosomes, r, n_jobs)\n",
    "    total_errors_sum['Total'].append(error)\n",
    "\n",
    "plot_total_errors_sum(total_errors_sum['Total'], r_values)"
   ]
  }
 ],
 "metadata": {
  "kernelspec": {
   "display_name": ".conda",
   "language": "python",
   "name": "python3"
  },
  "language_info": {
   "codemirror_mode": {
    "name": "ipython",
    "version": 3
   },
   "file_extension": ".py",
   "mimetype": "text/x-python",
   "name": "python",
   "nbconvert_exporter": "python",
   "pygments_lexer": "ipython3",
   "version": "3.10.15"
  }
 },
 "nbformat": 4,
 "nbformat_minor": 2
}
