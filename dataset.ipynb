{
 "cells": [
  {
   "cell_type": "code",
   "execution_count": null,
   "metadata": {},
   "outputs": [],
   "source": [
    "import requests\n",
    "from bs4 import BeautifulSoup\n",
    "import os\n",
    "import shutil\n",
    "\n",
    "def clear_directory(local_directory):\n",
    "    \"\"\" Removes all files in the specified directory \"\"\"\n",
    "    if os.path.exists(local_directory):\n",
    "        shutil.rmtree(local_directory)\n",
    "    print(f\"Cleared previous downloads in {local_directory}\")\n",
    "\n",
    "def list_files(url):\n",
    "    \"\"\" Fetches and lists all the .txt files at the given URL \"\"\"\n",
    "    response = requests.get(url)\n",
    "    if response.status_code == 200:\n",
    "        soup = BeautifulSoup(response.text, 'html.parser')\n",
    "        return [url + '/' + node.get('href') for node in soup.find_all('a') if node.get('href').endswith('.txt')]\n",
    "    else:\n",
    "        print(f\"Failed to access {url}\")\n",
    "        return []\n",
    "\n",
    "def download_file(url, local_directory):\n",
    "    \"\"\" Downloads a single file given by url and saves it to the specified local directory \"\"\"\n",
    "    if not os.path.exists(local_directory):\n",
    "        os.makedirs(local_directory)\n",
    "    local_filename = os.path.join(local_directory, url.split('/')[-1])\n",
    "    response = requests.get(url)\n",
    "    if response.status_code == 200:\n",
    "        with open(local_filename, 'wb') as f:\n",
    "            f.write(response.content)\n",
    "        print(f\"Downloaded {local_filename}\")\n",
    "    else:\n",
    "        print(f\"Failed to download {url}\")\n",
    "\n",
    "# Base URL of the directory containing the subdirectories\n",
    "base_url = 'https://pages.stat.wisc.edu/~sshen82/bandnorm/Ramani2017'\n",
    "\n",
    "# List of subdirectories (manually specified or dynamically fetched)\n",
    "subdirectories = ['GM12878', 'HAP1', 'Hela', 'K562']\n",
    "\n",
    "# Process each subdirectory\n",
    "for subdir in subdirectories:\n",
    "    local_directory = os.path.join(os.getcwd(), subdir)  # Use current directory as the base\n",
    "    clear_directory(local_directory)  # Clear the directory first\n",
    "    url = f\"{base_url}/{subdir}\"\n",
    "    files = list_files(url)\n",
    "    for file_url in files:\n",
    "        download_file(file_url, local_directory) "
   ]
  },
  {
   "cell_type": "code",
   "execution_count": null,
   "metadata": {},
   "outputs": [],
   "source": [
    "import pandas as pd\n",
    "test_data = pd.read_csv(\"GM12878/ml3_AAGCGACC-ACCTCTTG.txt\", header=None, names=['Chromosome1', 'Start1', 'Chromosome2', 'Start2', 'InteractionCount'], sep=\"\\t\")\n",
    "test_data.head()"
   ]
  }
 ],
 "metadata": {
  "kernelspec": {
   "display_name": "Python 3",
   "language": "python",
   "name": "python3"
  },
  "language_info": {
   "codemirror_mode": {
    "name": "ipython",
    "version": 3
   },
   "file_extension": ".py",
   "mimetype": "text/x-python",
   "name": "python",
   "nbconvert_exporter": "python",
   "pygments_lexer": "ipython3",
   "version": "3.10.14"
  }
 },
 "nbformat": 4,
 "nbformat_minor": 2
}
